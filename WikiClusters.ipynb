{
 "cells": [
  {
   "cell_type": "markdown",
   "metadata": {},
   "source": [
    "# Hello this script will scrape wikipedia and create a pandas data frame of Postcodes, Borooughs, and Neigborhoods. \n",
    "\n"
   ]
  },
  {
   "cell_type": "code",
   "execution_count": 204,
   "metadata": {},
   "outputs": [],
   "source": [
    "from bs4 import BeautifulSoup\n",
    "import requests\n",
    "\n",
    "site = r\"https://en.wikipedia.org/wiki/List_of_postal_codes_of_Canada:_M\"\n",
    "\n",
    "r  = requests.get(site)\n",
    "data = r.text\n",
    "\n",
    "soup = BeautifulSoup(data)\n",
    "\n",
    "# print(soup)"
   ]
  },
  {
   "cell_type": "markdown",
   "metadata": {},
   "source": [
    "The variable \"soup\" now contains the html contents of the webpage. The relevant table has the following structure: "
   ]
  },
  {
   "cell_type": "code",
   "execution_count": 205,
   "metadata": {},
   "outputs": [
    {
     "name": "stdout",
     "output_type": "stream",
     "text": [
      "\n"
     ]
    }
   ],
   "source": [
    "\"\"\"\n",
    "<tbody><tr>\n",
    "<th>Postcode</th>\n",
    "<th>Borough</th>\n",
    "<th>Neighbourhood\n",
    "</th></tr>\n",
    "<tr>\n",
    "<td>M1A</td>\n",
    "<td>Not assigned</td>\n",
    "<td>Not assigned\n",
    "</td></tr>\n",
    "<tr>\n",
    "<td>M2A</td>\n",
    "<td>Not assigned</td>\n",
    "<td>Not assigned\n",
    "</td></tr>\n",
    "<tr>\n",
    "<td>M3A</td>\n",
    "<td><a href=\"/wiki/North_York\" title=\"North York\">North York</a></td>\n",
    "<td><a href=\"/wiki/Parkwoods\" title=\"Parkwoods\">Parkwoods</a>\n",
    "</td></tr>\n",
    "<tr>\n",
    "<td>M4A</td>\n",
    "<td><a href=\"/wiki/North_York\" title=\"North York\">North York</a></td>\n",
    "<td><a href=\"/wiki/Victoria_Village\" title=\"Victoria Village\">Victoria Village</a>\n",
    "</td></tr>\n",
    "\"\"\"\n",
    "print(\"\")"
   ]
  },
  {
   "cell_type": "markdown",
   "metadata": {},
   "source": [
    "Within each 'tr' and '/tr' tags, there are three 'td' items. Let's extract each 'tr' item into a list."
   ]
  },
  {
   "cell_type": "code",
   "execution_count": 206,
   "metadata": {},
   "outputs": [
    {
     "name": "stdout",
     "output_type": "stream",
     "text": [
      "['M1A', 'Not assigned', 'Not assigned\\n', 'M2A', 'Not assigned', 'Not assigned\\n', 'M3A', '<a href=\"/wiki/North_York\" title=\"North York\">North York</a>', '<a href=\"/wiki/Parkwoods\" title=\"Parkwoods\">Parkwoods</a>\\n', 'M4A', '<a href=\"/wiki/North_York\" title=\"North York\">North York</a>', '<a href=\"/wiki/Victoria_Village\" title=\"Victoria Village\">Victoria Village</a>\\n', 'M5A', '<a href=\"/wiki/Downtown_Toronto\" title=\"Downtown Toronto\">Downtown Toronto</a>', '<a href=\"/wiki/Harbourfront_(Toronto)\" title=\"Harbourfront (Toronto)\">Harbourfront</a>\\n', 'M5A', '<a href=\"/wiki/Downtown_Toronto\" title=\"Downtown Toronto\">Downtown Toronto</a>', '<a href=\"/wiki/Regent_Park\" title=\"Regent Park\">Regent Park</a>\\n', 'M6A', '<a href=\"/wiki/North_York\" title=\"North York\">North York</a>']\n"
     ]
    }
   ],
   "source": [
    "ugly_contents = []\n",
    "table = soup.find(\"tbody\")\n",
    "for row in table.find_all(\"tr\"):\n",
    "    cells = row.find_all(\"td\")\n",
    "    for e in cells:\n",
    "        ugly_contents.append(str(e)[4:-5])\n",
    "\n",
    "\n",
    "print(ugly_contents[0:20])"
   ]
  },
  {
   "cell_type": "markdown",
   "metadata": {},
   "source": [
    "Every third element has a \"/n\" character, so let's clean it up and clean up the links too"
   ]
  },
  {
   "cell_type": "code",
   "execution_count": 207,
   "metadata": {},
   "outputs": [
    {
     "name": "stdout",
     "output_type": "stream",
     "text": [
      "['M1A', 'Not assigned', 'Not assigned', 'M2A', 'Not assigned', 'Not assigned', 'M3A', 'North York', 'Parkwoods', 'M4A']\n"
     ]
    }
   ],
   "source": [
    "import re\n",
    "\n",
    "clean_contents = []\n",
    "for u in ugly_contents:\n",
    "    c = u.strip()\n",
    "    if c[0] == \"<\":\n",
    "        c = re.search('title=\"(.*)\">', c).group(1)\n",
    "    \n",
    "    clean_contents.append(c)\n",
    "    \n",
    "print(clean_contents[0:10])"
   ]
  },
  {
   "cell_type": "markdown",
   "metadata": {},
   "source": [
    "Let's now make this list into a dataframe"
   ]
  },
  {
   "cell_type": "code",
   "execution_count": 208,
   "metadata": {},
   "outputs": [
    {
     "name": "stdout",
     "output_type": "stream",
     "text": [
      "  Postcode           Borough           Neighbourhood\n",
      "0      M1A      Not assigned            Not assigned\n",
      "1      M2A      Not assigned            Not assigned\n",
      "2      M3A        North York               Parkwoods\n",
      "3      M4A        North York        Victoria Village\n",
      "4      M5A  Downtown Toronto  Harbourfront (Toronto)\n",
      "<class 'pandas.core.frame.DataFrame'>\n",
      "RangeIndex: 288 entries, 0 to 287\n",
      "Data columns (total 3 columns):\n",
      "Postcode         288 non-null object\n",
      "Borough          288 non-null object\n",
      "Neighbourhood    288 non-null object\n",
      "dtypes: object(3)\n",
      "memory usage: 6.8+ KB\n",
      "None\n"
     ]
    }
   ],
   "source": [
    "import pandas as pd \n",
    "\n",
    "data_dict = {\n",
    "    \"Postcode\":clean_contents[0::3],\n",
    "    \"Borough\":clean_contents[1::3],\n",
    "    \"Neighbourhood\":clean_contents[2::3]\n",
    "}\n",
    "\n",
    "df = pd.DataFrame(data_dict)\n",
    "print(df.head().to_string())\n",
    "print(df.info())"
   ]
  },
  {
   "cell_type": "markdown",
   "metadata": {},
   "source": [
    "As per instruction, we will drop any Borough of \"Not Assigned\""
   ]
  },
  {
   "cell_type": "code",
   "execution_count": 209,
   "metadata": {},
   "outputs": [
    {
     "name": "stdout",
     "output_type": "stream",
     "text": [
      "<class 'pandas.core.frame.DataFrame'>\n",
      "RangeIndex: 211 entries, 0 to 210\n",
      "Data columns (total 3 columns):\n",
      "Postcode         211 non-null object\n",
      "Borough          211 non-null object\n",
      "Neighbourhood    211 non-null object\n",
      "dtypes: object(3)\n",
      "memory usage: 5.0+ KB\n",
      "None\n"
     ]
    }
   ],
   "source": [
    "df = df[df[\"Borough\"] != \"Not assigned\"].reset_index(drop=True)\n",
    "print(df.info())"
   ]
  },
  {
   "cell_type": "markdown",
   "metadata": {},
   "source": [
    "Now replace the Neighbourhoods which are 'Not assigned' to the borough name "
   ]
  },
  {
   "cell_type": "code",
   "execution_count": 210,
   "metadata": {},
   "outputs": [
    {
     "name": "stdout",
     "output_type": "stream",
     "text": [
      "Before\n",
      "  Postcode                 Borough Neighbourhood\n",
      "6      M7A  Queen's Park (Toronto)  Not assigned\n",
      "After\n",
      "  Postcode                 Borough           Neighbourhood\n",
      "6      M7A  Queen's Park (Toronto)  Queen's Park (Toronto)\n"
     ]
    }
   ],
   "source": [
    "print(\"Before\")\n",
    "not_as_fil = df[\"Neighbourhood\"] == \"Not assigned\"\n",
    "print(df[not_as_fil])\n",
    "\n",
    "print(\"After\")\n",
    "df.loc[not_as_fil,[\"Neighbourhood\"]] = df.loc[not_as_fil][\"Borough\"]\n",
    "print(df[not_as_fil])"
   ]
  },
  {
   "cell_type": "markdown",
   "metadata": {},
   "source": [
    "Let's now group by postal code"
   ]
  },
  {
   "cell_type": "code",
   "execution_count": 211,
   "metadata": {},
   "outputs": [
    {
     "name": "stdout",
     "output_type": "stream",
     "text": [
      "                         Borough                                      Neighbourhood\n",
      "Postcode                                                                           \n",
      "M1B       [Scarborough, Toronto]                 [Malvern, Toronto, Rouge, Toronto]\n",
      "M1C       [Scarborough, Toronto]  [Highland Creek (Toronto), Port Union, Toronto...\n",
      "M1E       [Scarborough, Toronto]  [West Hill, Toronto, Morningside, Toronto, Gui...\n",
      "M1G       [Scarborough, Toronto]                                  [Woburn, Toronto]\n",
      "M1H       [Scarborough, Toronto]                                        [Cedarbrae]\n",
      "M1J       [Scarborough, Toronto]                              [Scarborough Village]\n",
      "M1K       [Scarborough, Toronto]  [Ionview, Kennedy Park, Toronto, East Birchmou...\n",
      "M1L       [Scarborough, Toronto]  [Oakridge, Toronto, Clairlea, Golden Mile, Tor...\n",
      "M1M       [Scarborough, Toronto]  [Scarborough Village West, Cliffside, Toronto,...\n",
      "M1N       [Scarborough, Toronto]                      [Cliffside West, Birch Cliff]\n",
      "M1P       [Scarborough, Toronto]  [Scarborough Town Centre, Wexford Heights, Dor...\n",
      "M1R       [Scarborough, Toronto]              [Wexford, Toronto, Maryvale, Toronto]\n",
      "M1S       [Scarborough, Toronto]                               [Agincourt, Toronto]\n",
      "M1T       [Scarborough, Toronto]  [Sullivan, Tam O'Shanter – Sullivan, Clarks Co...\n",
      "M1V       [Scarborough, Toronto]  [Agincourt North, Steeles East, L'Amoreaux Eas...\n",
      "M1W       [Scarborough, Toronto]                                  [L'Amoreaux West]\n",
      "M1X       [Scarborough, Toronto]                                      [Upper Rouge]\n",
      "M2H                 [North York]                                [Hillcrest Village]\n",
      "M2J                 [North York]                     [Fairview, Oriole, Henry Farm]\n",
      "M2K                 [North York]                                  [Bayview Village]\n"
     ]
    }
   ],
   "source": [
    "pst = df.groupby(\"Postcode\")\n",
    "df_grped = pst.aggregate(lambda x: list(set(x)))\n",
    "print(df_grped[0:20].to_string())"
   ]
  },
  {
   "cell_type": "markdown",
   "metadata": {},
   "source": [
    "Now we join with the lat/long data"
   ]
  },
  {
   "cell_type": "code",
   "execution_count": 212,
   "metadata": {},
   "outputs": [
    {
     "name": "stdout",
     "output_type": "stream",
     "text": [
      "<class 'pandas.core.frame.DataFrame'>\n",
      "RangeIndex: 103 entries, 0 to 102\n",
      "Data columns (total 3 columns):\n",
      "Postal Code    103 non-null object\n",
      "Latitude       103 non-null float64\n",
      "Longitude      103 non-null float64\n",
      "dtypes: float64(2), object(1)\n",
      "memory usage: 2.5+ KB\n",
      "None\n"
     ]
    }
   ],
   "source": [
    "lat_long = pd.read_csv(\"Geospatial_Coordinates.csv\", sep=\",\", header=0)\n",
    "print(lat_long.info())"
   ]
  },
  {
   "cell_type": "code",
   "execution_count": 213,
   "metadata": {},
   "outputs": [
    {
     "name": "stdout",
     "output_type": "stream",
     "text": [
      "                   Borough                                      Neighbourhood Postal Code   Latitude  Longitude\n",
      "0   [Scarborough, Toronto]                 [Malvern, Toronto, Rouge, Toronto]         M1B  43.806686 -79.194353\n",
      "1   [Scarborough, Toronto]  [Highland Creek (Toronto), Port Union, Toronto...         M1C  43.784535 -79.160497\n",
      "2   [Scarborough, Toronto]  [West Hill, Toronto, Morningside, Toronto, Gui...         M1E  43.763573 -79.188711\n",
      "3   [Scarborough, Toronto]                                  [Woburn, Toronto]         M1G  43.770992 -79.216917\n",
      "4   [Scarborough, Toronto]                                        [Cedarbrae]         M1H  43.773136 -79.239476\n",
      "5   [Scarborough, Toronto]                              [Scarborough Village]         M1J  43.744734 -79.239476\n",
      "6   [Scarborough, Toronto]  [Ionview, Kennedy Park, Toronto, East Birchmou...         M1K  43.727929 -79.262029\n",
      "7   [Scarborough, Toronto]  [Oakridge, Toronto, Clairlea, Golden Mile, Tor...         M1L  43.711112 -79.284577\n",
      "8   [Scarborough, Toronto]  [Scarborough Village West, Cliffside, Toronto,...         M1M  43.716316 -79.239476\n",
      "9   [Scarborough, Toronto]                      [Cliffside West, Birch Cliff]         M1N  43.692657 -79.264848\n",
      "10  [Scarborough, Toronto]  [Scarborough Town Centre, Wexford Heights, Dor...         M1P  43.757410 -79.273304\n",
      "11  [Scarborough, Toronto]              [Wexford, Toronto, Maryvale, Toronto]         M1R  43.750072 -79.295849\n",
      "12  [Scarborough, Toronto]                               [Agincourt, Toronto]         M1S  43.794200 -79.262029\n",
      "13  [Scarborough, Toronto]  [Sullivan, Tam O'Shanter – Sullivan, Clarks Co...         M1T  43.781638 -79.304302\n",
      "14  [Scarborough, Toronto]  [Agincourt North, Steeles East, L'Amoreaux Eas...         M1V  43.815252 -79.284577\n",
      "15  [Scarborough, Toronto]                                  [L'Amoreaux West]         M1W  43.799525 -79.318389\n",
      "16  [Scarborough, Toronto]                                      [Upper Rouge]         M1X  43.836125 -79.205636\n",
      "17            [North York]                                [Hillcrest Village]         M2H  43.803762 -79.363452\n",
      "18            [North York]                     [Fairview, Oriole, Henry Farm]         M2J  43.778517 -79.346556\n",
      "19            [North York]                                  [Bayview Village]         M2K  43.786947 -79.385975\n"
     ]
    }
   ],
   "source": [
    "final = df_grped.merge(lat_long, how=\"inner\", left_on=\"Postcode\", right_on=\"Postal Code\")\n",
    "\n",
    "print(final[0:20].to_string())"
   ]
  },
  {
   "cell_type": "markdown",
   "metadata": {},
   "source": [
    "# Done!\n",
    "\n",
    "Thank you,\n",
    "\n",
    "Michael A Greene, PhD. "
   ]
  },
  {
   "cell_type": "code",
   "execution_count": null,
   "metadata": {},
   "outputs": [],
   "source": []
  }
 ],
 "metadata": {
  "kernelspec": {
   "display_name": "Python 3",
   "language": "python",
   "name": "python3"
  },
  "language_info": {
   "codemirror_mode": {
    "name": "ipython",
    "version": 3
   },
   "file_extension": ".py",
   "mimetype": "text/x-python",
   "name": "python",
   "nbconvert_exporter": "python",
   "pygments_lexer": "ipython3",
   "version": "3.6.8"
  }
 },
 "nbformat": 4,
 "nbformat_minor": 2
}
