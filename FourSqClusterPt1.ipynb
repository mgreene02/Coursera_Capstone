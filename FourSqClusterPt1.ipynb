{
 "cells": [
  {
   "cell_type": "markdown",
   "metadata": {},
   "source": [
    "# Coursera Capstone Project - Part 1\n",
    "\n",
    "<strong>Michael A Greene, PhD.</strong>"
   ]
  },
  {
   "cell_type": "markdown",
   "metadata": {},
   "source": [
    "<H4><em>Introduction/Business Problem</em></H4>\n",
    "\n",
    "In a town with a small number of people, it is absolutely crucial to conduct market research to determine the demand for a particular product. Especially if you are trying to sell that product! In a large city, it may be possible to sustain a business on the fact that with such a large and diverse group of people, some of them are bound to stop in and order. This may not be true in smaller towns where profit margins are razor thin. \n",
    "\n",
    "<H5>The purpose of this project is to explore my home town of Bradenton, FL and determine the best place, if any, to open a new dessert shop.</H5> \n",
    "\n",
    "This study will take in to account the proximity of other dessert shops, the categories of dessert shops, and the reviews of existing shops. \n",
    "\n",
    "\n"
   ]
  },
  {
   "cell_type": "markdown",
   "metadata": {},
   "source": [
    "<H4><em>Data</em></H4>\n",
    "\n",
    "I will extract the dessert venue from Foursquare using a developer account and several API calls. Getting the name and location of a venue within a certain radius is completely <strong>free</strong> up to 500 calls per day with the free developer sandbox account. This is accomplished by following these steps:\n",
    "\n",
    "<ol>\n",
    "    <li>Connecting to the Foursquare API with a special value of private keys.</li>\n",
    "    <li>Creating the query which can be understood by the Foursquare API.</li>\n",
    "    <li>Extracting the returned data from the HTML code.</li>\n",
    "</ol>\n",
    "\n",
    "Once the data is in a python-readable format, I will use Folium to visualize the city and plot the various dessert shops. <strong>K-means clustering</strong>, a machine learning algorithm, will then be used to group similar venues and predict where a new dessert shop may be located. "
   ]
  },
  {
   "cell_type": "markdown",
   "metadata": {},
   "source": []
  },
  {
   "cell_type": "code",
   "execution_count": 19,
   "metadata": {},
   "outputs": [],
   "source": [
    "import json, requests\n",
    "\n",
    "url = 'https://api.foursquare.com/v2/venues/explore'\n",
    "\n",
    "params = dict(\n",
    "  client_id='GX424RHIAG0SEPY50L4XQ0CP55VMRRODYQ1OEARLZZCHY2NF',\n",
    "  client_secret='RPWJZUID5KZ2IXNMYCPSR1OLB3L1WVVIQNZJMIPPLUKOT3R1',\n",
    "  v='20180323',\n",
    "  ll='40.7243,-74.0018',\n",
    "  query='dessert',\n",
    "  limit=10\n",
    ")\n",
    "resp = requests.get(url=url, params=params)\n",
    "data = json.loads(resp.text)"
   ]
  },
  {
   "cell_type": "code",
   "execution_count": 20,
   "metadata": {},
   "outputs": [
    {
     "name": "stdout",
     "output_type": "stream",
     "text": [
      "{'id': '50002274e4b0deb8db4eea3b', 'name': 'Chobani', 'contact': {}, 'location': {'address': '152 Prince St', 'crossStreet': 'at W Broadway', 'lat': 40.72581867292355, 'lng': -74.00098495024535, 'labeledLatLngs': [{'label': 'display', 'lat': 40.72581867292355, 'lng': -74.00098495024535}], 'distance': 182, 'postalCode': '10012', 'cc': 'US', 'city': 'New York', 'state': 'NY', 'country': 'United States', 'formattedAddress': ['152 Prince St (at W Broadway)', 'New York, NY 10012', 'United States']}, 'categories': [{'id': '4bf58dd8d48988d1c7941735', 'name': 'Snack Place', 'pluralName': 'Snack Places', 'shortName': 'Snacks', 'icon': {'prefix': 'https://ss3.4sqi.net/img/categories_v2/food/snacks_', 'suffix': '.png'}, 'primary': True}], 'verified': True, 'stats': {'tipCount': 0, 'usersCount': 0, 'checkinsCount': 0, 'visitsCount': 0}, 'beenHere': {'count': 0, 'lastCheckinExpiredAt': 0, 'marked': False, 'unconfirmedCount': 0}, 'photos': {'count': 0, 'groups': []}, 'hereNow': {'count': 0, 'summary': 'Nobody here', 'groups': []}}\n",
      "\n",
      "\n",
      "{'id': '45e98bacf964a52080431fe3', 'name': 'MarieBelle', 'contact': {}, 'location': {'address': '484 Broome St', 'crossStreet': 'btwn W Broadway & Wooster St', 'lat': 40.72310132633388, 'lng': -74.00247749675871, 'labeledLatLngs': [{'label': 'display', 'lat': 40.72310132633388, 'lng': -74.00247749675871}], 'distance': 145, 'postalCode': '10013', 'cc': 'US', 'city': 'New York', 'state': 'NY', 'country': 'United States', 'formattedAddress': ['484 Broome St (btwn W Broadway & Wooster St)', 'New York, NY 10013', 'United States']}, 'categories': [{'id': '4bf58dd8d48988d1d0941735', 'name': 'Dessert Shop', 'pluralName': 'Dessert Shops', 'shortName': 'Desserts', 'icon': {'prefix': 'https://ss3.4sqi.net/img/categories_v2/food/dessert_', 'suffix': '.png'}, 'primary': True}], 'verified': True, 'stats': {'tipCount': 0, 'usersCount': 0, 'checkinsCount': 0, 'visitsCount': 0}, 'delivery': {'id': '488596', 'url': 'https://www.seamless.com/menu/marie-belle-new-york-484-broome-st-new-york/488596?affiliate=1131&utm_source=foursquare-affiliate-network&utm_medium=affiliate&utm_campaign=1131&utm_content=488596', 'provider': {'name': 'seamless', 'icon': {'prefix': 'https://fastly.4sqi.net/img/general/cap/', 'sizes': [40, 50], 'name': '/delivery_provider_seamless_20180129.png'}}}, 'beenHere': {'count': 0, 'lastCheckinExpiredAt': 0, 'marked': False, 'unconfirmedCount': 0}, 'photos': {'count': 0, 'groups': []}, 'venuePage': {'id': '81170724'}, 'hereNow': {'count': 0, 'summary': 'Nobody here', 'groups': []}}\n",
      "\n",
      "\n",
      "{'id': '4eb13d68e5e8c0f5bd2fd983', 'name': 'Dominique Ansel Bakery', 'contact': {}, 'location': {'address': '189 Spring St', 'crossStreet': 'btwn Sullivan & Thompson St', 'lat': 40.7251633496652, 'lng': -74.00297583591562, 'labeledLatLngs': [{'label': 'display', 'lat': 40.7251633496652, 'lng': -74.00297583591562}], 'distance': 138, 'postalCode': '10012', 'cc': 'US', 'city': 'New York', 'state': 'NY', 'country': 'United States', 'formattedAddress': ['189 Spring St (btwn Sullivan & Thompson St)', 'New York, NY 10012', 'United States']}, 'categories': [{'id': '4bf58dd8d48988d16a941735', 'name': 'Bakery', 'pluralName': 'Bakeries', 'shortName': 'Bakery', 'icon': {'prefix': 'https://ss3.4sqi.net/img/categories_v2/food/bakery_', 'suffix': '.png'}, 'primary': True}], 'verified': True, 'stats': {'tipCount': 0, 'usersCount': 0, 'checkinsCount': 0, 'visitsCount': 0}, 'beenHere': {'count': 0, 'lastCheckinExpiredAt': 0, 'marked': False, 'unconfirmedCount': 0}, 'photos': {'count': 0, 'groups': []}, 'venuePage': {'id': '43632227'}, 'hereNow': {'count': 0, 'summary': 'Nobody here', 'groups': []}}\n",
      "\n",
      "\n",
      "{'id': '52eddc12498e40bb655e0d7a', 'name': 'Ladurée', 'contact': {}, 'location': {'address': '398 W Broadway', 'crossStreet': 'at Spring St', 'lat': 40.72452315456703, 'lng': -74.00274772611498, 'labeledLatLngs': [{'label': 'display', 'lat': 40.72452315456703, 'lng': -74.00274772611498}], 'distance': 83, 'postalCode': '10012', 'cc': 'US', 'city': 'New York', 'state': 'NY', 'country': 'United States', 'formattedAddress': ['398 W Broadway (at Spring St)', 'New York, NY 10012', 'United States']}, 'categories': [{'id': '4bf58dd8d48988d1d0941735', 'name': 'Dessert Shop', 'pluralName': 'Dessert Shops', 'shortName': 'Desserts', 'icon': {'prefix': 'https://ss3.4sqi.net/img/categories_v2/food/dessert_', 'suffix': '.png'}, 'primary': True}], 'verified': True, 'stats': {'tipCount': 0, 'usersCount': 0, 'checkinsCount': 0, 'visitsCount': 0}, 'beenHere': {'count': 0, 'lastCheckinExpiredAt': 0, 'marked': False, 'unconfirmedCount': 0}, 'photos': {'count': 0, 'groups': []}, 'venuePage': {'id': '112493949'}, 'hereNow': {'count': 0, 'summary': 'Nobody here', 'groups': []}}\n",
      "\n",
      "\n",
      "{'id': '53ab0af5498e13bffddb8d96', 'name': 'Pi Greek Bakerie', 'contact': {}, 'location': {'address': '512 Broome St', 'crossStreet': 'at Thompson St', 'lat': 40.723515651165286, 'lng': -74.00344360363695, 'labeledLatLngs': [{'label': 'display', 'lat': 40.723515651165286, 'lng': -74.00344360363695}], 'distance': 163, 'postalCode': '10013', 'cc': 'US', 'city': 'New York', 'state': 'NY', 'country': 'United States', 'formattedAddress': ['512 Broome St (at Thompson St)', 'New York, NY 10013', 'United States']}, 'categories': [{'id': '4bf58dd8d48988d16a941735', 'name': 'Bakery', 'pluralName': 'Bakeries', 'shortName': 'Bakery', 'icon': {'prefix': 'https://ss3.4sqi.net/img/categories_v2/food/bakery_', 'suffix': '.png'}, 'primary': True}], 'verified': True, 'stats': {'tipCount': 0, 'usersCount': 0, 'checkinsCount': 0, 'visitsCount': 0}, 'delivery': {'id': '304388', 'url': 'https://www.seamless.com/menu/pi-bakerie-and-eaterie-512-broome-st-new-york/304388?affiliate=1131&utm_source=foursquare-affiliate-network&utm_medium=affiliate&utm_campaign=1131&utm_content=304388', 'provider': {'name': 'seamless', 'icon': {'prefix': 'https://fastly.4sqi.net/img/general/cap/', 'sizes': [40, 50], 'name': '/delivery_provider_seamless_20180129.png'}}}, 'beenHere': {'count': 0, 'lastCheckinExpiredAt': 0, 'marked': False, 'unconfirmedCount': 0}, 'photos': {'count': 0, 'groups': []}, 'venuePage': {'id': '90381820'}, 'hereNow': {'count': 0, 'summary': 'Nobody here', 'groups': []}}\n",
      "\n",
      "\n",
      "{'id': '4f36418ee4b017ad79b8e8a2', 'name': 'Georgetown Cupcake', 'contact': {}, 'location': {'address': '111 Mercer St', 'crossStreet': 'btwn Spring St & Prince St', 'lat': 40.72373721901756, 'lng': -73.99933920166615, 'labeledLatLngs': [{'label': 'display', 'lat': 40.72373721901756, 'lng': -73.99933920166615}], 'distance': 216, 'postalCode': '10012', 'cc': 'US', 'city': 'New York', 'state': 'NY', 'country': 'United States', 'formattedAddress': ['111 Mercer St (btwn Spring St & Prince St)', 'New York, NY 10012', 'United States']}, 'categories': [{'id': '4bf58dd8d48988d1bc941735', 'name': 'Cupcake Shop', 'pluralName': 'Cupcake Shops', 'shortName': 'Cupcakes', 'icon': {'prefix': 'https://ss3.4sqi.net/img/categories_v2/food/cupcakes_', 'suffix': '.png'}, 'primary': True}], 'verified': True, 'stats': {'tipCount': 0, 'usersCount': 0, 'checkinsCount': 0, 'visitsCount': 0}, 'beenHere': {'count': 0, 'lastCheckinExpiredAt': 0, 'marked': False, 'unconfirmedCount': 0}, 'photos': {'count': 0, 'groups': []}, 'venuePage': {'id': '63138710'}, 'hereNow': {'count': 0, 'summary': 'Nobody here', 'groups': []}}\n",
      "\n",
      "\n",
      "{'id': '4b4c863cf964a52026b526e3', 'name': 'Birdbath Neighborhood Green Bakery', 'contact': {}, 'location': {'address': '160 Prince St', 'crossStreet': 'btwn W Broadway & Thompson St', 'lat': 40.72596815291517, 'lng': -74.00125390305723, 'labeledLatLngs': [{'label': 'display', 'lat': 40.72596815291517, 'lng': -74.00125390305723}], 'distance': 191, 'postalCode': '10012', 'cc': 'US', 'city': 'New York', 'state': 'NY', 'country': 'United States', 'formattedAddress': ['160 Prince St (btwn W Broadway & Thompson St)', 'New York, NY 10012', 'United States']}, 'categories': [{'id': '4bf58dd8d48988d16a941735', 'name': 'Bakery', 'pluralName': 'Bakeries', 'shortName': 'Bakery', 'icon': {'prefix': 'https://ss3.4sqi.net/img/categories_v2/food/bakery_', 'suffix': '.png'}, 'primary': True}], 'verified': False, 'stats': {'tipCount': 0, 'usersCount': 0, 'checkinsCount': 0, 'visitsCount': 0}, 'beenHere': {'count': 0, 'lastCheckinExpiredAt': 0, 'marked': False, 'unconfirmedCount': 0}, 'photos': {'count': 0, 'groups': []}, 'hereNow': {'count': 0, 'summary': 'Nobody here', 'groups': []}}\n",
      "\n",
      "\n",
      "{'id': '55b7dd92498e88a1ea18d3f8', 'name': \"Sadelle's\", 'contact': {}, 'location': {'address': '463 W Broadway', 'crossStreet': 'btwn Prince & Houston St', 'lat': 40.726316492706346, 'lng': -74.00035723351957, 'labeledLatLngs': [{'label': 'display', 'lat': 40.726316492706346, 'lng': -74.00035723351957}], 'distance': 255, 'postalCode': '10012', 'cc': 'US', 'city': 'New York', 'state': 'NY', 'country': 'United States', 'formattedAddress': ['463 W Broadway (btwn Prince & Houston St)', 'New York, NY 10012', 'United States']}, 'categories': [{'id': '4bf58dd8d48988d179941735', 'name': 'Bagel Shop', 'pluralName': 'Bagel Shops', 'shortName': 'Bagels', 'icon': {'prefix': 'https://ss3.4sqi.net/img/categories_v2/food/bagels_', 'suffix': '.png'}, 'primary': True}], 'verified': False, 'stats': {'tipCount': 0, 'usersCount': 0, 'checkinsCount': 0, 'visitsCount': 0}, 'beenHere': {'count': 0, 'lastCheckinExpiredAt': 0, 'marked': False, 'unconfirmedCount': 0}, 'photos': {'count': 0, 'groups': []}, 'hereNow': {'count': 0, 'summary': 'Nobody here', 'groups': []}}\n",
      "\n",
      "\n",
      "{'id': '5bbd1d34c21cb1002b68b8f3', 'name': 'Morgenstern’s Finest Ice Cream', 'contact': {}, 'location': {'address': '490 Laguardia Pl', 'lat': 40.7270567382626, 'lng': -73.99986366383841, 'labeledLatLngs': [{'label': 'display', 'lat': 40.7270567382626, 'lng': -73.99986366383841}], 'distance': 347, 'postalCode': '10012', 'cc': 'US', 'city': 'New York', 'state': 'NY', 'country': 'United States', 'formattedAddress': ['490 Laguardia Pl', 'New York, NY 10012', 'United States']}, 'categories': [{'id': '4bf58dd8d48988d1c9941735', 'name': 'Ice Cream Shop', 'pluralName': 'Ice Cream Shops', 'shortName': 'Ice Cream', 'icon': {'prefix': 'https://ss3.4sqi.net/img/categories_v2/food/icecream_', 'suffix': '.png'}, 'primary': True}], 'verified': False, 'stats': {'tipCount': 0, 'usersCount': 0, 'checkinsCount': 0, 'visitsCount': 0}, 'beenHere': {'count': 0, 'lastCheckinExpiredAt': 0, 'marked': False, 'unconfirmedCount': 0}, 'photos': {'count': 0, 'groups': []}, 'hereNow': {'count': 0, 'summary': 'Nobody here', 'groups': []}}\n",
      "\n",
      "\n",
      "{'id': '5be9fc8575eee4002c71e650', 'name': 'Harbs', 'contact': {}, 'location': {'address': '465 W Broadway', 'crossStreet': 'at W Houston St', 'lat': 40.72653781837405, 'lng': -74.00005535615513, 'labeledLatLngs': [{'label': 'display', 'lat': 40.72653781837405, 'lng': -74.00005535615513}], 'distance': 289, 'postalCode': '10012', 'cc': 'US', 'neighborhood': 'SoHo', 'city': 'New York', 'state': 'NY', 'country': 'United States', 'formattedAddress': ['465 W Broadway (at W Houston St)', 'New York, NY 10012', 'United States']}, 'categories': [{'id': '4bf58dd8d48988d1d0941735', 'name': 'Dessert Shop', 'pluralName': 'Dessert Shops', 'shortName': 'Desserts', 'icon': {'prefix': 'https://ss3.4sqi.net/img/categories_v2/food/dessert_', 'suffix': '.png'}, 'primary': True}], 'verified': False, 'stats': {'tipCount': 0, 'usersCount': 0, 'checkinsCount': 0, 'visitsCount': 0}, 'beenHere': {'count': 0, 'lastCheckinExpiredAt': 0, 'marked': False, 'unconfirmedCount': 0}, 'photos': {'count': 0, 'groups': []}, 'hereNow': {'count': 0, 'summary': 'Nobody here', 'groups': []}}\n",
      "\n",
      "\n"
     ]
    }
   ],
   "source": [
    "for i in range(10):\n",
    "    print(data[\"response\"][\"groups\"][0][\"items\"][i][\"venue\"])\n",
    "    print(\"\\n\")\n"
   ]
  },
  {
   "cell_type": "code",
   "execution_count": null,
   "metadata": {},
   "outputs": [],
   "source": []
  }
 ],
 "metadata": {
  "kernelspec": {
   "display_name": "Python 3",
   "language": "python",
   "name": "python3"
  },
  "language_info": {
   "codemirror_mode": {
    "name": "ipython",
    "version": 3
   },
   "file_extension": ".py",
   "mimetype": "text/x-python",
   "name": "python",
   "nbconvert_exporter": "python",
   "pygments_lexer": "ipython3",
   "version": "3.6.8"
  }
 },
 "nbformat": 4,
 "nbformat_minor": 2
}
